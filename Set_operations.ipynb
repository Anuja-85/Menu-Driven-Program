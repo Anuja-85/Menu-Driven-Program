{
 "cells": [
  {
   "cell_type": "markdown",
   "id": "f9496bae",
   "metadata": {},
   "source": [
    "## Union"
   ]
  },
  {
   "cell_type": "markdown",
   "id": "41ecc287",
   "metadata": {},
   "source": [
    "Union method return new set variable , it will not change any exisiting set.\n",
    "\n",
    "Python set Union() Method returns a new set which contains all the items from the original set.\n",
    "\n",
    "Union of two given sets is the set which contains all the elements of both the sets.\n",
    "The union of two given sets A and B is a set which consists of all the elements of A and all the elements of B \n",
    "such that no element is repeated."
   ]
  },
  {
   "cell_type": "code",
   "execution_count": null,
   "id": "61d4b071",
   "metadata": {},
   "outputs": [],
   "source": [
    "syntax:\n",
    "    set1.union(set2,set3,set4,...)"
   ]
  },
  {
   "cell_type": "code",
   "execution_count": 10,
   "id": "d8ad9059",
   "metadata": {},
   "outputs": [
    {
     "name": "stdout",
     "output_type": "stream",
     "text": [
      "Union of s1 and s2 = {1, 2, 3, 4, 5, 7, 9, 11}\n"
     ]
    }
   ],
   "source": [
    "s1 = {1,2,3,4,5}\n",
    "s2 = {3,5,7,9,11}\n",
    "\n",
    "var = s1.union(s2)\n",
    "print(f\"Union of s1 and s2 = {var}\")"
   ]
  },
  {
   "cell_type": "code",
   "execution_count": 11,
   "id": "ac92d4a5",
   "metadata": {},
   "outputs": [
    {
     "name": "stdout",
     "output_type": "stream",
     "text": [
      "Union of s1 and s2 and s3 = {0, 1, 2, 3, 4, 5, 6, 7, 8, 9, 11, 12, 15}\n"
     ]
    }
   ],
   "source": [
    "s1 = {1,2,3,4,5}\n",
    "s2 = {3,5,7,9,11}\n",
    "s3 = {1,0,4,6,7,8,12,15}\n",
    "\n",
    "var1 = s3.union(s1,s2)\n",
    "print(f\"Union of s1 and s2 and s3 = {var1}\")"
   ]
  },
  {
   "cell_type": "code",
   "execution_count": 12,
   "id": "8b589ec5",
   "metadata": {},
   "outputs": [
    {
     "name": "stdout",
     "output_type": "stream",
     "text": [
      "Union of s1 and s2 = {1, 2, 3, 4, 5, 7, 9, 11}\n"
     ]
    }
   ],
   "source": [
    "s1 = {1,2,3,4,5}\n",
    "s2 = (3,5,7,9,11)\n",
    "\n",
    "s = s1.union(s2)\n",
    "print(f\"Union of s1 and s2 = {s}\")"
   ]
  },
  {
   "cell_type": "code",
   "execution_count": 3,
   "id": "fabba6aa",
   "metadata": {},
   "outputs": [
    {
     "data": {
      "text/plain": [
       "{1, 2, 3, 4, 5, 7, 9, 11}"
      ]
     },
     "execution_count": 3,
     "metadata": {},
     "output_type": "execute_result"
    }
   ],
   "source": [
    "s1 = {1,2,3,4,5}\n",
    "s2 = {3,5,7,9,11}\n",
    "\n",
    "s = s1 | s2  ## union using '|' operator\n",
    "s"
   ]
  },
  {
   "cell_type": "markdown",
   "id": "17489289",
   "metadata": {},
   "source": [
    "## Intersection"
   ]
  },
  {
   "cell_type": "markdown",
   "id": "7ed1049b",
   "metadata": {},
   "source": [
    "Python set intersection() method returns a new set with an element that is common to all set.\n",
    "\n",
    "The intersection of two given sets A and B is a set which consists of all the elements which are common to both A and B.\n"
   ]
  },
  {
   "cell_type": "code",
   "execution_count": null,
   "id": "5cbead55",
   "metadata": {},
   "outputs": [],
   "source": [
    "Syntax: \n",
    "\n",
    "    set1.intersection(set2,set3,set4,...)"
   ]
  },
  {
   "cell_type": "code",
   "execution_count": 13,
   "id": "2e592b12",
   "metadata": {},
   "outputs": [
    {
     "name": "stdout",
     "output_type": "stream",
     "text": [
      "Intersection of s1 and s2 = {3, 5}\n"
     ]
    }
   ],
   "source": [
    "s1 = {1,2,3,4,5}\n",
    "s2 = {3,5,7,9,11}\n",
    "\n",
    "s3 = s1.intersection(s2)\n",
    "print(f\"Intersection of s1 and s2 = {s3}\")"
   ]
  },
  {
   "cell_type": "code",
   "execution_count": 14,
   "id": "889c0ef9",
   "metadata": {},
   "outputs": [
    {
     "name": "stdout",
     "output_type": "stream",
     "text": [
      "Intersection of s1 and s2 = {3, 5}\n"
     ]
    }
   ],
   "source": [
    "s1 = {1,2,3,4,5}\n",
    "s2 = {3,5,7,9,11}\n",
    "\n",
    "s3 = s2.intersection(s1)\n",
    "print(f\"Intersection of s1 and s2 = {s3}\")"
   ]
  },
  {
   "cell_type": "code",
   "execution_count": 15,
   "id": "43fea8d5",
   "metadata": {},
   "outputs": [
    {
     "name": "stdout",
     "output_type": "stream",
     "text": [
      "Intersection of s1 and s2 and s3 = {1}\n"
     ]
    }
   ],
   "source": [
    "s1 = {1,2,3,4,5}\n",
    "s2 = {1,3,5,7,9,11}\n",
    "s3 = {1,0,4,6,7,8,12,15}\n",
    "\n",
    "s = s1.intersection(s2,s3)\n",
    "print(f\"Intersection of s1 and s2 and s3 = {s}\")"
   ]
  },
  {
   "cell_type": "code",
   "execution_count": 6,
   "id": "62260136",
   "metadata": {},
   "outputs": [
    {
     "data": {
      "text/plain": [
       "{1}"
      ]
     },
     "execution_count": 6,
     "metadata": {},
     "output_type": "execute_result"
    }
   ],
   "source": [
    "s1 = {1,2,3,4,5}\n",
    "s2 = {1,3,5,7,9,11}\n",
    "s3 = {1,0,4,6,7,8,12,15}\n",
    "\n",
    "s = s1 & s2 & s3 ## intersection using '&' operator\n",
    "s"
   ]
  },
  {
   "cell_type": "code",
   "execution_count": 27,
   "id": "7e1c08a3",
   "metadata": {},
   "outputs": [
    {
     "data": {
      "text/plain": [
       "[3, 5]"
      ]
     },
     "execution_count": 27,
     "metadata": {},
     "output_type": "execute_result"
    }
   ],
   "source": [
    "s1 = {1,2,3,4,5}\n",
    "s2 = {3,5,7,9,11}\n",
    "\n",
    "s = [x for x in s1 if x in s2]\n",
    "s"
   ]
  },
  {
   "cell_type": "markdown",
   "id": "ec1bd48f",
   "metadata": {},
   "source": [
    "## Difference"
   ]
  },
  {
   "cell_type": "markdown",
   "id": "a42c58da",
   "metadata": {},
   "source": [
    "Return new set var \n",
    "unique values from set1\n",
    "\n",
    "The function difference() returns a set that is the difference between two sets. \n",
    "The (set A – set B) will be the elements present in set A but not in B and (set B – set A) will be the elements present\n",
    "in set B but not in set A."
   ]
  },
  {
   "cell_type": "code",
   "execution_count": null,
   "id": "fb63e9c2",
   "metadata": {},
   "outputs": [],
   "source": [
    "Syntax: \n",
    "    set1.difference(set2)"
   ]
  },
  {
   "cell_type": "code",
   "execution_count": 16,
   "id": "bbc4654b",
   "metadata": {},
   "outputs": [
    {
     "name": "stdout",
     "output_type": "stream",
     "text": [
      "Difference of s1 and s2 = {9, 11, 7}\n"
     ]
    }
   ],
   "source": [
    "s1 = {1,2,3,4,5}\n",
    "s2 = {3,5,7,9,11}\n",
    "\n",
    "s3 = s2.difference(s1)\n",
    "print(f\"Difference of s1 and s2 = {s3}\")"
   ]
  },
  {
   "cell_type": "code",
   "execution_count": 17,
   "id": "5502be7f",
   "metadata": {},
   "outputs": [
    {
     "name": "stdout",
     "output_type": "stream",
     "text": [
      "Difference of s1 and s2 = {1, 2, 4}\n"
     ]
    }
   ],
   "source": [
    "s1 = {1,2,3,4,5}\n",
    "s2 = {3,5,7,9,11}\n",
    "\n",
    "s3 = s1.difference(s2)\n",
    "print(f\"Difference of s1 and s2 = {s3}\")"
   ]
  },
  {
   "cell_type": "code",
   "execution_count": 18,
   "id": "f23a746d",
   "metadata": {},
   "outputs": [
    {
     "name": "stdout",
     "output_type": "stream",
     "text": [
      "Difference of s1 and s2 and s3 = {2}\n"
     ]
    }
   ],
   "source": [
    "s1 = {1,2,3,4,5}\n",
    "s2 = {1,3,5,7,9,11}\n",
    "s3 = {1,0,4,6,7,8,12,15}\n",
    "\n",
    "s = s1.difference(s2,s3)\n",
    "print(f\"Difference of s1 and s2 and s3 = {s}\")"
   ]
  },
  {
   "cell_type": "code",
   "execution_count": 7,
   "id": "ffce6fa7",
   "metadata": {},
   "outputs": [
    {
     "data": {
      "text/plain": [
       "{1, 2, 4}"
      ]
     },
     "execution_count": 7,
     "metadata": {},
     "output_type": "execute_result"
    }
   ],
   "source": [
    "s1 = {1,2,3,4,5}\n",
    "s2 = {3,5,7,9,11}\n",
    "\n",
    "s = s1 - s2 ## Difference using '-' sign\n",
    "s"
   ]
  },
  {
   "cell_type": "code",
   "execution_count": 8,
   "id": "7cd0a12f",
   "metadata": {},
   "outputs": [
    {
     "data": {
      "text/plain": [
       "{7, 9, 11}"
      ]
     },
     "execution_count": 8,
     "metadata": {},
     "output_type": "execute_result"
    }
   ],
   "source": [
    "s1 = {1,2,3,4,5}\n",
    "s2 = {3,5,7,9,11}\n",
    "\n",
    "s = s2 - s1\n",
    "s"
   ]
  },
  {
   "cell_type": "code",
   "execution_count": 28,
   "id": "38af80cb",
   "metadata": {},
   "outputs": [
    {
     "data": {
      "text/plain": [
       "[1, 2, 4]"
      ]
     },
     "execution_count": 28,
     "metadata": {},
     "output_type": "execute_result"
    }
   ],
   "source": [
    "s1 = {1,2,3,4,5}\n",
    "s2 = {3,5,7,9,11}\n",
    "\n",
    "s = [x for x in s1 if x not in s2]\n",
    "s"
   ]
  },
  {
   "cell_type": "markdown",
   "id": "d18a9542",
   "metadata": {},
   "source": [
    "## Power Set"
   ]
  },
  {
   "cell_type": "code",
   "execution_count": null,
   "id": "a2543c6d",
   "metadata": {},
   "outputs": [],
   "source": [
    "Power Set: Power set P(S) of a set S is the set of all subsets of S. \n",
    "For example S = {a, b, c} then P(s) = {{}, {a}, {b}, {c}, {a,b}, {a, c}, {b, c}, {a, b, c}}.\n",
    "If S has n elements in it then P(s) will have 2n elements"
   ]
  },
  {
   "cell_type": "code",
   "execution_count": 30,
   "id": "1823fa05",
   "metadata": {},
   "outputs": [
    {
     "name": "stdout",
     "output_type": "stream",
     "text": [
      "[]\n",
      "[1]\n",
      "[3]\n",
      "[1, 3]\n",
      "[5]\n",
      "[1, 5]\n",
      "[3, 5]\n",
      "[1, 3, 5]\n",
      "[7]\n",
      "[1, 7]\n",
      "[3, 7]\n",
      "[1, 3, 7]\n",
      "[5, 7]\n",
      "[1, 5, 7]\n",
      "[3, 5, 7]\n",
      "[1, 3, 5, 7]\n",
      "[9]\n",
      "[1, 9]\n",
      "[3, 9]\n",
      "[1, 3, 9]\n",
      "[5, 9]\n",
      "[1, 5, 9]\n",
      "[3, 5, 9]\n",
      "[1, 3, 5, 9]\n",
      "[7, 9]\n",
      "[1, 7, 9]\n",
      "[3, 7, 9]\n",
      "[1, 3, 7, 9]\n",
      "[5, 7, 9]\n",
      "[1, 5, 7, 9]\n",
      "[3, 5, 7, 9]\n",
      "[1, 3, 5, 7, 9]\n"
     ]
    }
   ],
   "source": [
    "set1 = {1,3,5,7,9}\n",
    "\n",
    "result = [[]]\n",
    "\n",
    "for  i in set1:\n",
    "    n = len(result)\n",
    "\n",
    "    for j in range(n):\n",
    "        r = result[j] + [i]\n",
    "        result.append(r)\n",
    "    \n",
    "for element in result:\n",
    "    print(element)"
   ]
  },
  {
   "cell_type": "markdown",
   "id": "c570f01c",
   "metadata": {},
   "source": [
    "## Cartesian Product"
   ]
  },
  {
   "cell_type": "markdown",
   "id": "c3759849",
   "metadata": {},
   "source": [
    "Cartesian product is result of all possible combinations of two sets taking into account order of the sets."
   ]
  },
  {
   "cell_type": "code",
   "execution_count": 37,
   "id": "66eebf9c",
   "metadata": {},
   "outputs": [
    {
     "name": "stdout",
     "output_type": "stream",
     "text": [
      "The Cartesian Product is : [(1, 1), (1, 4), (1, 6), (1, 7), (3, 1), (3, 4), (3, 6), (3, 7)]\n"
     ]
    }
   ],
   "source": [
    "s1 = {1, 4, 6, 7}\n",
    "s2 = {1, 3}\n",
    " \n",
    "# using list comprehension\n",
    "result = [(a, b) for a in s2 for b in s1]\n",
    " \n",
    "print(f\"The Cartesian Product is : {result}\")"
   ]
  },
  {
   "cell_type": "code",
   "execution_count": 38,
   "id": "527c9429",
   "metadata": {},
   "outputs": [],
   "source": [
    "set1 = {1,3,5,7,9}\n",
    "\n",
    "result = [[]]"
   ]
  },
  {
   "cell_type": "code",
   "execution_count": 39,
   "id": "c462cd98",
   "metadata": {},
   "outputs": [
    {
     "name": "stdout",
     "output_type": "stream",
     "text": [
      "[[]]\n"
     ]
    }
   ],
   "source": [
    "print(result)"
   ]
  },
  {
   "cell_type": "code",
   "execution_count": 40,
   "id": "17562c00",
   "metadata": {},
   "outputs": [
    {
     "data": {
      "text/plain": [
       "1"
      ]
     },
     "execution_count": 40,
     "metadata": {},
     "output_type": "execute_result"
    }
   ],
   "source": [
    "len(result)"
   ]
  },
  {
   "cell_type": "code",
   "execution_count": null,
   "id": "5c6b2bd8",
   "metadata": {},
   "outputs": [],
   "source": []
  }
 ],
 "metadata": {
  "kernelspec": {
   "display_name": "Python 3 (ipykernel)",
   "language": "python",
   "name": "python3"
  },
  "language_info": {
   "codemirror_mode": {
    "name": "ipython",
    "version": 3
   },
   "file_extension": ".py",
   "mimetype": "text/x-python",
   "name": "python",
   "nbconvert_exporter": "python",
   "pygments_lexer": "ipython3",
   "version": "3.9.12"
  }
 },
 "nbformat": 4,
 "nbformat_minor": 5
}
