{
 "cells": [
  {
   "cell_type": "markdown",
   "id": "a4fc3273",
   "metadata": {},
   "source": [
    "Bubble Sort - Bubble Sort is the simplest sorting algorithm that works by repeatedly swapping the adjacent \n",
    "elements if they are in the wrong order. This algorithm is not suitable for large data sets as its average \n",
    "and worst-case time complexity is quite high."
   ]
  },
  {
   "cell_type": "code",
   "execution_count": 6,
   "id": "29b94a52",
   "metadata": {},
   "outputs": [],
   "source": [
    "def bubble_sort(list1):   \n",
    "    for i in range(0,len(list1)-1):  \n",
    "        for j in range(len(list1)-1):  \n",
    "            if(list1[j]>list1[j+1]):\n",
    "                list1[j],list1[j+1] = list1[j+1], list1[j]  \n",
    "    return list1  "
   ]
  },
  {
   "cell_type": "code",
   "execution_count": 7,
   "id": "c9ccef92",
   "metadata": {},
   "outputs": [
    {
     "name": "stdout",
     "output_type": "stream",
     "text": [
      "The unsorted list is:  [13, 3, 45, 65, 2, 89]\n",
      "The sorted list is:  [2, 3, 13, 45, 65, 89]\n"
     ]
    }
   ],
   "source": [
    "list1 = [13, 3, 45, 65, 2, 89] \n",
    "print(\"The unsorted list is: \", list1)  \n",
    "\n",
    "print(\"The sorted list is: \", bubble_sort(list1)) \n"
   ]
  },
  {
   "cell_type": "code",
   "execution_count": null,
   "id": "a4ce12f6",
   "metadata": {},
   "outputs": [],
   "source": []
  },
  {
   "cell_type": "markdown",
   "id": "dea2d1b0",
   "metadata": {},
   "source": [
    "Insertion Sort - Insertion sort is the simple method of sorting an array. \n",
    "In this technique,the array is virtually split into the sorted and unsorted part. \n",
    "An element from unsorted part is picked and is placed at correct position in the sorted part."
   ]
  },
  {
   "cell_type": "code",
   "execution_count": 22,
   "id": "6d3fe11d",
   "metadata": {},
   "outputs": [
    {
     "name": "stdout",
     "output_type": "stream",
     "text": [
      "The unsorted list is:  [64, 34, 25, 12, 22, 11, 90]\n",
      "The sorted list is:  [11, 12, 22, 25, 34, 64, 90]\n"
     ]
    }
   ],
   "source": [
    "def insertion_sort(list1):\n",
    "    indexing_length = range(1,len(list1))\n",
    "    for i in indexing_length:\n",
    "        while list1[i-1] > list1[i] and i> 0:\n",
    "            list1[i],list1[i-1] = list1[i-1], list1[i]\n",
    "            i = i-1\n",
    "    return list1  \n",
    "  \n",
    "list1 = [64, 34, 25, 12, 22, 11, 90]  \n",
    "print(\"The unsorted list is: \", list1)  \n",
    "\n",
    "print(\"The sorted list is: \", insertion_sort(list1)) "
   ]
  },
  {
   "cell_type": "code",
   "execution_count": 23,
   "id": "cfce0e9c",
   "metadata": {},
   "outputs": [
    {
     "data": {
      "text/plain": [
       "[0, 6, 8, 9, 21, 23, 45, 76, 89]"
      ]
     },
     "execution_count": 23,
     "metadata": {},
     "output_type": "execute_result"
    }
   ],
   "source": [
    "insertion_sort([23,45,76,89,21,0,6,8,9])"
   ]
  },
  {
   "cell_type": "code",
   "execution_count": null,
   "id": "b8026266",
   "metadata": {},
   "outputs": [],
   "source": []
  },
  {
   "cell_type": "markdown",
   "id": "79b3f04a",
   "metadata": {},
   "source": [
    "Binary Search - Binary Search in python is a searching technique that works on a sorted array.\n",
    "Instead of comparing each element of the array with the required element, the binary search algorithm repeatedly\n",
    "divides the array into sub-arrays and then searches for the required element in the sub-array."
   ]
  },
  {
   "cell_type": "code",
   "execution_count": 1,
   "id": "9db3343e",
   "metadata": {},
   "outputs": [],
   "source": [
    "def binary_search(list1,item):\n",
    "    begin_index = 0\n",
    "    end_index =len(list1)-1\n",
    "    \n",
    "    while begin_index <= end_index:\n",
    "        mid_value = (begin_index+end_index)//2\n",
    "        if list1[mid_value] == item:\n",
    "            return mid_value\n",
    "        elif list1[mid_value] > item:\n",
    "            end_index = mid_value - 1\n",
    "        else:\n",
    "            begin_index = mid_value + 1\n",
    "    return None\n"
   ]
  },
  {
   "cell_type": "code",
   "execution_count": 2,
   "id": "f96dc882",
   "metadata": {},
   "outputs": [
    {
     "data": {
      "text/plain": [
       "3"
      ]
     },
     "execution_count": 2,
     "metadata": {},
     "output_type": "execute_result"
    }
   ],
   "source": [
    "binary_search([1,21,32,45,67,89,90],45)"
   ]
  },
  {
   "cell_type": "markdown",
   "id": "c69a2c8e",
   "metadata": {},
   "source": [
    "Linear Search - Linear search in Python is one way to find items in a list. \n",
    "A sequential manner is used to find the requested element. Every element is checked about the value we're seeking.\n",
    "If both are equal,the element is found, and the process returns that element's index position."
   ]
  },
  {
   "cell_type": "code",
   "execution_count": 3,
   "id": "51e2dd40",
   "metadata": {},
   "outputs": [
    {
     "name": "stdout",
     "output_type": "stream",
     "text": [
      "Element not found\n"
     ]
    }
   ],
   "source": [
    "def linear_search(list1,n):\n",
    "    i = 0\n",
    "    while i < len(list1):\n",
    "        if list1[i] == n:\n",
    "            globals()['pos'] = i\n",
    "            return True \n",
    "        i = i+1\n",
    "    return False\n",
    "\n",
    "list1 = [2,5,7,12,4,9,45,64,87,9]\n",
    "n = 13\n",
    "if linear_search(list1,n):  \n",
    "    print(\"Element found at index: \",pos)  \n",
    "else:  \n",
    "    print(\"Element not found\")  "
   ]
  },
  {
   "cell_type": "code",
   "execution_count": null,
   "id": "6ec62f62",
   "metadata": {},
   "outputs": [],
   "source": []
  },
  {
   "cell_type": "code",
   "execution_count": null,
   "id": "34444df3",
   "metadata": {},
   "outputs": [],
   "source": []
  },
  {
   "cell_type": "code",
   "execution_count": null,
   "id": "93110d72",
   "metadata": {},
   "outputs": [],
   "source": []
  }
 ],
 "metadata": {
  "kernelspec": {
   "display_name": "Python 3 (ipykernel)",
   "language": "python",
   "name": "python3"
  },
  "language_info": {
   "codemirror_mode": {
    "name": "ipython",
    "version": 3
   },
   "file_extension": ".py",
   "mimetype": "text/x-python",
   "name": "python",
   "nbconvert_exporter": "python",
   "pygments_lexer": "ipython3",
   "version": "3.9.12"
  }
 },
 "nbformat": 4,
 "nbformat_minor": 5
}
